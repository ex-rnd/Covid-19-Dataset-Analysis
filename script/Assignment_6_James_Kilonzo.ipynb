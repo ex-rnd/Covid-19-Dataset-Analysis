{
  "nbformat": 4,
  "nbformat_minor": 0,
  "metadata": {
    "colab": {
      "provenance": []
    },
    "kernelspec": {
      "name": "python3",
      "display_name": "Python 3"
    },
    "language_info": {
      "name": "python"
    }
  },
  "cells": [
    {
      "cell_type": "code",
      "execution_count": 2,
      "metadata": {
        "id": "cuSH9qdrjkcB"
      },
      "outputs": [],
      "source": [
        "import pandas as pd"
      ]
    },
    {
      "cell_type": "code",
      "source": [
        "from google.colab import drive\n",
        "drive.mount('/content/drive')"
      ],
      "metadata": {
        "colab": {
          "base_uri": "https://localhost:8080/"
        },
        "id": "-ClHRyUnNUzW",
        "outputId": "362083e4-4291-4bcd-97cd-8c103dac4db6"
      },
      "execution_count": 3,
      "outputs": [
        {
          "output_type": "stream",
          "name": "stdout",
          "text": [
            "Drive already mounted at /content/drive; to attempt to forcibly remount, call drive.mount(\"/content/drive\", force_remount=True).\n"
          ]
        }
      ]
    },
    {
      "cell_type": "code",
      "source": [
        "df = pd.read_csv('https://raw.githubusercontent.com/blair-developer/dataMain/refs/heads/main/covid_19.csv')\n",
        "\n",
        "# Cleaning dataset - dropping missing values and nan\n",
        "df = df.dropna()\n",
        "\n",
        "df.head()"
      ],
      "metadata": {
        "colab": {
          "base_uri": "https://localhost:8080/",
          "height": 293
        },
        "id": "UWNjXAX2jt7B",
        "outputId": "352307d3-d4ea-4997-e010-012630173338"
      },
      "execution_count": 4,
      "outputs": [
        {
          "output_type": "execute_result",
          "data": {
            "text/plain": [
              "                  country      continent    population         day  \\\n",
              "2              Montserrat  North-America  4.965000e+03  2024-06-30   \n",
              "7                   China           Asia  1.448471e+09  2024-06-30   \n",
              "9   Saint-Pierre-Miquelon  North-America  5.759000e+03  2024-06-30   \n",
              "14               Djibouti         Africa  1.016097e+06  2024-06-30   \n",
              "15              Greenland  North-America  5.697300e+04  2024-06-30   \n",
              "\n",
              "                         time   Cases  Recovered  Deaths        Tests  \n",
              "2   2024-06-30T16:15:16+00:00    1403     1376.0     8.0      17762.0  \n",
              "7   2024-06-30T16:15:16+00:00  503302   379053.0  5272.0  160000000.0  \n",
              "9   2024-06-30T16:15:16+00:00    3452     2449.0     2.0      25400.0  \n",
              "14  2024-06-30T16:15:15+00:00   15690    15427.0   189.0     305941.0  \n",
              "15  2024-06-30T16:15:15+00:00   11971     2761.0    21.0     164926.0  "
            ],
            "text/html": [
              "\n",
              "  <div id=\"df-360e44cf-401b-4a17-abd5-904fe350e35e\" class=\"colab-df-container\">\n",
              "    <div>\n",
              "<style scoped>\n",
              "    .dataframe tbody tr th:only-of-type {\n",
              "        vertical-align: middle;\n",
              "    }\n",
              "\n",
              "    .dataframe tbody tr th {\n",
              "        vertical-align: top;\n",
              "    }\n",
              "\n",
              "    .dataframe thead th {\n",
              "        text-align: right;\n",
              "    }\n",
              "</style>\n",
              "<table border=\"1\" class=\"dataframe\">\n",
              "  <thead>\n",
              "    <tr style=\"text-align: right;\">\n",
              "      <th></th>\n",
              "      <th>country</th>\n",
              "      <th>continent</th>\n",
              "      <th>population</th>\n",
              "      <th>day</th>\n",
              "      <th>time</th>\n",
              "      <th>Cases</th>\n",
              "      <th>Recovered</th>\n",
              "      <th>Deaths</th>\n",
              "      <th>Tests</th>\n",
              "    </tr>\n",
              "  </thead>\n",
              "  <tbody>\n",
              "    <tr>\n",
              "      <th>2</th>\n",
              "      <td>Montserrat</td>\n",
              "      <td>North-America</td>\n",
              "      <td>4.965000e+03</td>\n",
              "      <td>2024-06-30</td>\n",
              "      <td>2024-06-30T16:15:16+00:00</td>\n",
              "      <td>1403</td>\n",
              "      <td>1376.0</td>\n",
              "      <td>8.0</td>\n",
              "      <td>17762.0</td>\n",
              "    </tr>\n",
              "    <tr>\n",
              "      <th>7</th>\n",
              "      <td>China</td>\n",
              "      <td>Asia</td>\n",
              "      <td>1.448471e+09</td>\n",
              "      <td>2024-06-30</td>\n",
              "      <td>2024-06-30T16:15:16+00:00</td>\n",
              "      <td>503302</td>\n",
              "      <td>379053.0</td>\n",
              "      <td>5272.0</td>\n",
              "      <td>160000000.0</td>\n",
              "    </tr>\n",
              "    <tr>\n",
              "      <th>9</th>\n",
              "      <td>Saint-Pierre-Miquelon</td>\n",
              "      <td>North-America</td>\n",
              "      <td>5.759000e+03</td>\n",
              "      <td>2024-06-30</td>\n",
              "      <td>2024-06-30T16:15:16+00:00</td>\n",
              "      <td>3452</td>\n",
              "      <td>2449.0</td>\n",
              "      <td>2.0</td>\n",
              "      <td>25400.0</td>\n",
              "    </tr>\n",
              "    <tr>\n",
              "      <th>14</th>\n",
              "      <td>Djibouti</td>\n",
              "      <td>Africa</td>\n",
              "      <td>1.016097e+06</td>\n",
              "      <td>2024-06-30</td>\n",
              "      <td>2024-06-30T16:15:15+00:00</td>\n",
              "      <td>15690</td>\n",
              "      <td>15427.0</td>\n",
              "      <td>189.0</td>\n",
              "      <td>305941.0</td>\n",
              "    </tr>\n",
              "    <tr>\n",
              "      <th>15</th>\n",
              "      <td>Greenland</td>\n",
              "      <td>North-America</td>\n",
              "      <td>5.697300e+04</td>\n",
              "      <td>2024-06-30</td>\n",
              "      <td>2024-06-30T16:15:15+00:00</td>\n",
              "      <td>11971</td>\n",
              "      <td>2761.0</td>\n",
              "      <td>21.0</td>\n",
              "      <td>164926.0</td>\n",
              "    </tr>\n",
              "  </tbody>\n",
              "</table>\n",
              "</div>\n",
              "    <div class=\"colab-df-buttons\">\n",
              "\n",
              "  <div class=\"colab-df-container\">\n",
              "    <button class=\"colab-df-convert\" onclick=\"convertToInteractive('df-360e44cf-401b-4a17-abd5-904fe350e35e')\"\n",
              "            title=\"Convert this dataframe to an interactive table.\"\n",
              "            style=\"display:none;\">\n",
              "\n",
              "  <svg xmlns=\"http://www.w3.org/2000/svg\" height=\"24px\" viewBox=\"0 -960 960 960\">\n",
              "    <path d=\"M120-120v-720h720v720H120Zm60-500h600v-160H180v160Zm220 220h160v-160H400v160Zm0 220h160v-160H400v160ZM180-400h160v-160H180v160Zm440 0h160v-160H620v160ZM180-180h160v-160H180v160Zm440 0h160v-160H620v160Z\"/>\n",
              "  </svg>\n",
              "    </button>\n",
              "\n",
              "  <style>\n",
              "    .colab-df-container {\n",
              "      display:flex;\n",
              "      gap: 12px;\n",
              "    }\n",
              "\n",
              "    .colab-df-convert {\n",
              "      background-color: #E8F0FE;\n",
              "      border: none;\n",
              "      border-radius: 50%;\n",
              "      cursor: pointer;\n",
              "      display: none;\n",
              "      fill: #1967D2;\n",
              "      height: 32px;\n",
              "      padding: 0 0 0 0;\n",
              "      width: 32px;\n",
              "    }\n",
              "\n",
              "    .colab-df-convert:hover {\n",
              "      background-color: #E2EBFA;\n",
              "      box-shadow: 0px 1px 2px rgba(60, 64, 67, 0.3), 0px 1px 3px 1px rgba(60, 64, 67, 0.15);\n",
              "      fill: #174EA6;\n",
              "    }\n",
              "\n",
              "    .colab-df-buttons div {\n",
              "      margin-bottom: 4px;\n",
              "    }\n",
              "\n",
              "    [theme=dark] .colab-df-convert {\n",
              "      background-color: #3B4455;\n",
              "      fill: #D2E3FC;\n",
              "    }\n",
              "\n",
              "    [theme=dark] .colab-df-convert:hover {\n",
              "      background-color: #434B5C;\n",
              "      box-shadow: 0px 1px 3px 1px rgba(0, 0, 0, 0.15);\n",
              "      filter: drop-shadow(0px 1px 2px rgba(0, 0, 0, 0.3));\n",
              "      fill: #FFFFFF;\n",
              "    }\n",
              "  </style>\n",
              "\n",
              "    <script>\n",
              "      const buttonEl =\n",
              "        document.querySelector('#df-360e44cf-401b-4a17-abd5-904fe350e35e button.colab-df-convert');\n",
              "      buttonEl.style.display =\n",
              "        google.colab.kernel.accessAllowed ? 'block' : 'none';\n",
              "\n",
              "      async function convertToInteractive(key) {\n",
              "        const element = document.querySelector('#df-360e44cf-401b-4a17-abd5-904fe350e35e');\n",
              "        const dataTable =\n",
              "          await google.colab.kernel.invokeFunction('convertToInteractive',\n",
              "                                                    [key], {});\n",
              "        if (!dataTable) return;\n",
              "\n",
              "        const docLinkHtml = 'Like what you see? Visit the ' +\n",
              "          '<a target=\"_blank\" href=https://colab.research.google.com/notebooks/data_table.ipynb>data table notebook</a>'\n",
              "          + ' to learn more about interactive tables.';\n",
              "        element.innerHTML = '';\n",
              "        dataTable['output_type'] = 'display_data';\n",
              "        await google.colab.output.renderOutput(dataTable, element);\n",
              "        const docLink = document.createElement('div');\n",
              "        docLink.innerHTML = docLinkHtml;\n",
              "        element.appendChild(docLink);\n",
              "      }\n",
              "    </script>\n",
              "  </div>\n",
              "\n",
              "\n",
              "    <div id=\"df-94a8c7f3-b113-4c52-99a1-3b5eee4c066b\">\n",
              "      <button class=\"colab-df-quickchart\" onclick=\"quickchart('df-94a8c7f3-b113-4c52-99a1-3b5eee4c066b')\"\n",
              "                title=\"Suggest charts\"\n",
              "                style=\"display:none;\">\n",
              "\n",
              "<svg xmlns=\"http://www.w3.org/2000/svg\" height=\"24px\"viewBox=\"0 0 24 24\"\n",
              "     width=\"24px\">\n",
              "    <g>\n",
              "        <path d=\"M19 3H5c-1.1 0-2 .9-2 2v14c0 1.1.9 2 2 2h14c1.1 0 2-.9 2-2V5c0-1.1-.9-2-2-2zM9 17H7v-7h2v7zm4 0h-2V7h2v10zm4 0h-2v-4h2v4z\"/>\n",
              "    </g>\n",
              "</svg>\n",
              "      </button>\n",
              "\n",
              "<style>\n",
              "  .colab-df-quickchart {\n",
              "      --bg-color: #E8F0FE;\n",
              "      --fill-color: #1967D2;\n",
              "      --hover-bg-color: #E2EBFA;\n",
              "      --hover-fill-color: #174EA6;\n",
              "      --disabled-fill-color: #AAA;\n",
              "      --disabled-bg-color: #DDD;\n",
              "  }\n",
              "\n",
              "  [theme=dark] .colab-df-quickchart {\n",
              "      --bg-color: #3B4455;\n",
              "      --fill-color: #D2E3FC;\n",
              "      --hover-bg-color: #434B5C;\n",
              "      --hover-fill-color: #FFFFFF;\n",
              "      --disabled-bg-color: #3B4455;\n",
              "      --disabled-fill-color: #666;\n",
              "  }\n",
              "\n",
              "  .colab-df-quickchart {\n",
              "    background-color: var(--bg-color);\n",
              "    border: none;\n",
              "    border-radius: 50%;\n",
              "    cursor: pointer;\n",
              "    display: none;\n",
              "    fill: var(--fill-color);\n",
              "    height: 32px;\n",
              "    padding: 0;\n",
              "    width: 32px;\n",
              "  }\n",
              "\n",
              "  .colab-df-quickchart:hover {\n",
              "    background-color: var(--hover-bg-color);\n",
              "    box-shadow: 0 1px 2px rgba(60, 64, 67, 0.3), 0 1px 3px 1px rgba(60, 64, 67, 0.15);\n",
              "    fill: var(--button-hover-fill-color);\n",
              "  }\n",
              "\n",
              "  .colab-df-quickchart-complete:disabled,\n",
              "  .colab-df-quickchart-complete:disabled:hover {\n",
              "    background-color: var(--disabled-bg-color);\n",
              "    fill: var(--disabled-fill-color);\n",
              "    box-shadow: none;\n",
              "  }\n",
              "\n",
              "  .colab-df-spinner {\n",
              "    border: 2px solid var(--fill-color);\n",
              "    border-color: transparent;\n",
              "    border-bottom-color: var(--fill-color);\n",
              "    animation:\n",
              "      spin 1s steps(1) infinite;\n",
              "  }\n",
              "\n",
              "  @keyframes spin {\n",
              "    0% {\n",
              "      border-color: transparent;\n",
              "      border-bottom-color: var(--fill-color);\n",
              "      border-left-color: var(--fill-color);\n",
              "    }\n",
              "    20% {\n",
              "      border-color: transparent;\n",
              "      border-left-color: var(--fill-color);\n",
              "      border-top-color: var(--fill-color);\n",
              "    }\n",
              "    30% {\n",
              "      border-color: transparent;\n",
              "      border-left-color: var(--fill-color);\n",
              "      border-top-color: var(--fill-color);\n",
              "      border-right-color: var(--fill-color);\n",
              "    }\n",
              "    40% {\n",
              "      border-color: transparent;\n",
              "      border-right-color: var(--fill-color);\n",
              "      border-top-color: var(--fill-color);\n",
              "    }\n",
              "    60% {\n",
              "      border-color: transparent;\n",
              "      border-right-color: var(--fill-color);\n",
              "    }\n",
              "    80% {\n",
              "      border-color: transparent;\n",
              "      border-right-color: var(--fill-color);\n",
              "      border-bottom-color: var(--fill-color);\n",
              "    }\n",
              "    90% {\n",
              "      border-color: transparent;\n",
              "      border-bottom-color: var(--fill-color);\n",
              "    }\n",
              "  }\n",
              "</style>\n",
              "\n",
              "      <script>\n",
              "        async function quickchart(key) {\n",
              "          const quickchartButtonEl =\n",
              "            document.querySelector('#' + key + ' button');\n",
              "          quickchartButtonEl.disabled = true;  // To prevent multiple clicks.\n",
              "          quickchartButtonEl.classList.add('colab-df-spinner');\n",
              "          try {\n",
              "            const charts = await google.colab.kernel.invokeFunction(\n",
              "                'suggestCharts', [key], {});\n",
              "          } catch (error) {\n",
              "            console.error('Error during call to suggestCharts:', error);\n",
              "          }\n",
              "          quickchartButtonEl.classList.remove('colab-df-spinner');\n",
              "          quickchartButtonEl.classList.add('colab-df-quickchart-complete');\n",
              "        }\n",
              "        (() => {\n",
              "          let quickchartButtonEl =\n",
              "            document.querySelector('#df-94a8c7f3-b113-4c52-99a1-3b5eee4c066b button');\n",
              "          quickchartButtonEl.style.display =\n",
              "            google.colab.kernel.accessAllowed ? 'block' : 'none';\n",
              "        })();\n",
              "      </script>\n",
              "    </div>\n",
              "\n",
              "    </div>\n",
              "  </div>\n"
            ],
            "application/vnd.google.colaboratory.intrinsic+json": {
              "type": "dataframe",
              "variable_name": "df",
              "repr_error": "0"
            }
          },
          "metadata": {},
          "execution_count": 4
        }
      ]
    },
    {
      "cell_type": "markdown",
      "source": [
        "**1. Utilize the NumPy library or the stats module to compute central tendency metrics for the variables Cases, Recovered, and Deaths.**"
      ],
      "metadata": {
        "id": "YASxK9ktlv0_"
      }
    },
    {
      "cell_type": "code",
      "source": [
        "# Using numpy and stats -> Central Tendencies Metrics\n",
        "import numpy as np\n",
        "from scipy import stats\n",
        "\n",
        "# Loading column 'Cases'\n",
        "cases = df['Cases'].astype(int)\n",
        "# Loading column 'Cases'\n",
        "recovered = df['Recovered'].astype(int)\n",
        "# Loading column 'Cases'\n",
        "deaths = df['Deaths'].astype(int)\n",
        "\n",
        "# Mean\n",
        "mean_cases = np.mean(cases)\n",
        "mean_recovered = np.mean(recovered)\n",
        "mean_deaths = np.mean(deaths)\n",
        "\n",
        "# Median\n",
        "median_cases = np.median(cases)\n",
        "median_recovered = np.median(recovered)\n",
        "median_deaths = np.median(deaths)\n",
        "\n",
        "# Mode\n",
        "mode_cases = stats.mode(cases)\n",
        "mode_recovered = stats.mode(recovered)\n",
        "mode_deaths = stats.mode(deaths)"
      ],
      "metadata": {
        "id": "8DGTQG7gjt91"
      },
      "execution_count": 5,
      "outputs": []
    },
    {
      "cell_type": "code",
      "source": [
        "# Displaying Central Tendencies Metrics\n",
        "print(\"---------------------------------------------\")\n",
        "print(f'Mean Cases: , {mean_cases:.2f}')\n",
        "print(f'Mean Recovered: , {mean_recovered:.2f}')\n",
        "print(f'Mean Deaths: , {mean_deaths:.2f}')\n",
        "print(\"---------------------------------------------\")\n",
        "\n",
        "print(\"---------------------------------------------\")\n",
        "print('Median Cases: ', median_cases)\n",
        "print('Median Recovered: ', median_recovered)\n",
        "print('Median Deaths: ', median_deaths)\n",
        "print(\"---------------------------------------------\")\n",
        "\n",
        "print(\"---------------------------------------------\")\n",
        "print('Mode Cases: ', mode_cases[0])\n",
        "print('Mode Recovered: ', mode_recovered[0])\n",
        "print('Mode Deaths: ', mode_deaths[0])\n",
        "print(\"---------------------------------------------\")"
      ],
      "metadata": {
        "id": "DRVT55Erl0Rf",
        "outputId": "1e8c2df8-192e-4224-c02c-dd35fa093b28",
        "colab": {
          "base_uri": "https://localhost:8080/"
        }
      },
      "execution_count": 6,
      "outputs": [
        {
          "output_type": "stream",
          "name": "stdout",
          "text": [
            "---------------------------------------------\n",
            "Mean Cases: , 3358563.78\n",
            "Mean Recovered: , 3288111.80\n",
            "Mean Deaths: , 34377.05\n",
            "---------------------------------------------\n",
            "---------------------------------------------\n",
            "Median Cases:  272010.0\n",
            "Median Recovered:  258888.0\n",
            "Median Deaths:  3165.0\n",
            "---------------------------------------------\n",
            "---------------------------------------------\n",
            "Mode Cases:  1403\n",
            "Mode Recovered:  438\n",
            "Mode Deaths:  2\n",
            "---------------------------------------------\n"
          ]
        }
      ]
    },
    {
      "cell_type": "markdown",
      "source": [
        "**2. Determine the measures of variability, such as range, variance, and standard deviation, for the variables Cases, Population, Recovered, and Deaths.**"
      ],
      "metadata": {
        "id": "Ud1KR3u-l1qh"
      }
    },
    {
      "cell_type": "code",
      "source": [
        "# Load columns from dataset\n",
        "df_cases = df['Cases'].astype(int)\n",
        "df_population = df['population'].astype(int)\n",
        "df_recovered = df['Recovered'].astype(int)\n",
        "df_deaths = df['Deaths'].astype(int)\n",
        "\n",
        "# Range\n",
        "range_cases = np.ptp(df_cases)\n",
        "range_population = np.ptp(df_population)\n",
        "range_recovered = np.ptp(df_recovered)\n",
        "range_deaths = np.ptp(df_deaths)\n",
        "\n",
        "# Variance\n",
        "variance_cases = np.var(df_cases)\n",
        "variance_population = np.var(df_population)\n",
        "variance_recovered = np.var(df_recovered)\n",
        "variance_deaths = np.var(df_deaths)\n",
        "\n",
        "# Standard Deviation\n",
        "std_cases = np.std(df_cases)\n",
        "std_population = np.std(df_population)\n",
        "std_recovered = np.std(df_recovered)\n",
        "std_deaths = np.std(df_deaths)"
      ],
      "metadata": {
        "id": "8KspG7NJl0T6"
      },
      "execution_count": 7,
      "outputs": []
    },
    {
      "cell_type": "code",
      "source": [
        "# Displaying Range, Variance and Standard Deviation\n",
        "print(\"---------------------------------------------\")\n",
        "print('Range Cases: ', range_cases)\n",
        "print('Range Population: ', range_population)\n",
        "print('Range Recovered: ', range_recovered)\n",
        "print('Range Deaths: ', range_deaths)\n",
        "print(\"---------------------------------------------\")\n",
        "\n",
        "print(\"---------------------------------------------\")\n",
        "print(f'Variance Cases: , {variance_cases:.2f}')\n",
        "print(f'Variance Population: , {variance_population:.2f}')\n",
        "print(f'Variance Recovered: , {variance_recovered:.2f}')\n",
        "print(f'Variance Deaths: , {variance_deaths}')\n",
        "print(\"---------------------------------------------\")\n",
        "\n",
        "print(\"---------------------------------------------\")\n",
        "print(f'Standard Deviation Cases: , {std_cases:.2f}')\n",
        "print(f'Standard Deviation Population: , {std_population:.2f}')\n",
        "print(f'Standard Deviation Recovered: , {std_recovered:.2f}')\n",
        "print(f'Standard Deviation Deaths: , {std_deaths:.2f}')\n",
        "print(\"---------------------------------------------\")"
      ],
      "metadata": {
        "colab": {
          "base_uri": "https://localhost:8080/"
        },
        "id": "MERcYwtPJByE",
        "outputId": "bbe41783-ef3f-4531-dba9-fa1686211103"
      },
      "execution_count": 8,
      "outputs": [
        {
          "output_type": "stream",
          "name": "stdout",
          "text": [
            "---------------------------------------------\n",
            "Range Cases:  111818679\n",
            "Range Population:  1448466435\n",
            "Range Recovered:  109813990\n",
            "Range Deaths:  1219486\n",
            "---------------------------------------------\n",
            "---------------------------------------------\n",
            "Variance Cases: , 116534153439787.50\n",
            "Variance Population: , 14294894159394640.00\n",
            "Variance Recovered: , 112198686296193.14\n",
            "Variance Deaths: , 14294752849.849234\n",
            "---------------------------------------------\n",
            "---------------------------------------------\n",
            "Standard Deviation Cases: , 10795098.58\n",
            "Standard Deviation Population: , 119561256.93\n",
            "Standard Deviation Recovered: , 10592388.13\n",
            "Standard Deviation Deaths: , 119560.67\n",
            "---------------------------------------------\n"
          ]
        }
      ]
    },
    {
      "cell_type": "markdown",
      "source": [
        "**3. Conduct a univariate analysis on the population variable, Use appropriate visualizations (e.g., histograms or boxplots) to identify its distribution, detect outliers, and interpret the findings.**"
      ],
      "metadata": {
        "id": "UC-ZOMVZl8b_"
      }
    },
    {
      "cell_type": "code",
      "source": [
        "# Using matplotlib and seaborn\n",
        "%matplotlib inline\n",
        "import matplotlib.pyplot as plt\n",
        "import seaborn as sns\n",
        "\n",
        "# Loading the column 'population'\n",
        "population = df['population'].astype(int)\n",
        "\n",
        "# Show 'info' of the population column\n",
        "print(\"---------------------------------------------\")\n",
        "print(population.info())\n",
        "print(\"---------------------------------------------\")\n",
        "\n",
        "# Show 'describe' of the population column\n",
        "print(\"---------------------------------------------\")\n",
        "print(population.describe())\n",
        "print(\"---------------------------------------------\")\n",
        "\n",
        "# Show 'value_counts' of the population coulmn\n",
        "print(\"---------------------------------------------\")\n",
        "print(population.value_counts())\n",
        "print(\"---------------------------------------------\")"
      ],
      "metadata": {
        "id": "gkB75E55l0Wt",
        "colab": {
          "base_uri": "https://localhost:8080/"
        },
        "outputId": "0a5f0cd1-b334-418e-fbe9-89d2e5eaf7b5"
      },
      "execution_count": 9,
      "outputs": [
        {
          "output_type": "stream",
          "name": "stdout",
          "text": [
            "---------------------------------------------\n",
            "<class 'pandas.core.series.Series'>\n",
            "Index: 169 entries, 2 to 237\n",
            "Series name: population\n",
            "Non-Null Count  Dtype\n",
            "--------------  -----\n",
            "169 non-null    int64\n",
            "dtypes: int64(1)\n",
            "memory usage: 6.7 KB\n",
            "None\n",
            "---------------------------------------------\n",
            "---------------------------------------------\n",
            "count    1.690000e+02\n",
            "mean     3.393555e+07\n",
            "std      1.199166e+08\n",
            "min      4.965000e+03\n",
            "25%      1.369429e+06\n",
            "50%      8.680837e+06\n",
            "75%      2.791155e+07\n",
            "max      1.448471e+09\n",
            "Name: population, dtype: float64\n",
            "---------------------------------------------\n",
            "---------------------------------------------\n",
            "population\n",
            "4965          1\n",
            "1448471400    1\n",
            "5759          1\n",
            "1016097       1\n",
            "56973         1\n",
            "             ..\n",
            "23888595      1\n",
            "46010234      1\n",
            "17211447      1\n",
            "131562772     1\n",
            "279134505     1\n",
            "Name: count, Length: 169, dtype: int64\n",
            "---------------------------------------------\n"
          ]
        }
      ]
    },
    {
      "cell_type": "code",
      "source": [
        "# Histogram\n",
        "%matplotlib inline\n",
        "plt.figure(figsize=(30, 10))\n",
        "sns.histplot(population, bins=10, kde=False)\n",
        "plt.title('Distribution of Population')\n",
        "plt.xlabel('Population')\n",
        "plt.ylabel('Frequency')\n",
        "plt.show()\n",
        "plt.close('all')"
      ],
      "metadata": {
        "id": "ruzcs946l0Zo",
        "colab": {
          "base_uri": "https://localhost:8080/",
          "height": 343
        },
        "outputId": "439669f3-1bf1-412d-8c12-88bde17e2e73"
      },
      "execution_count": 10,
      "outputs": [
        {
          "output_type": "display_data",
          "data": {
            "text/plain": [
              "<Figure size 3000x1000 with 1 Axes>"
            ],
            "image/png": "[encoded data removed]"
          },
          "metadata": {}
        }
      ]
    },
    {
      "cell_type": "code",
      "source": [
        "# Boxplot\n",
        "%matplotlib inline\n",
        "plt.figure(figsize=(30, 10))\n",
        "sns.boxplot(x=population)\n",
        "plt.title('Boxplot of Population')\n",
        "plt.xlabel('Population')\n",
        "plt.show()\n",
        "plt.close('all')"
      ],
      "metadata": {
        "colab": {
          "base_uri": "https://localhost:8080/",
          "height": 350
        },
        "id": "atfJ4qkvODcW",
        "outputId": "370a21bc-22ac-4ef3-cf62-ae363f7032d4"
      },
      "execution_count": 11,
      "outputs": [
        {
          "output_type": "display_data",
          "data": {
            "text/plain": [
              "<Figure size 3000x1000 with 1 Axes>"
            ],
            "image/png": "[encoded data removed]"
          },
          "metadata": {}
        }
      ]
    },
    {
      "cell_type": "code",
      "source": [
        "# Show skew\n",
        "from scipy.stats import skew\n",
        "\n",
        "print(\"---------------------------------------------\")\n",
        "print(skew(population))\n",
        "print(\"---------------------------------------------\")"
      ],
      "metadata": {
        "colab": {
          "base_uri": "https://localhost:8080/"
        },
        "id": "NI40VEVOOogd",
        "outputId": "19608af9-5f47-4797-b56f-f616400939bf"
      },
      "execution_count": 12,
      "outputs": [
        {
          "output_type": "stream",
          "name": "stdout",
          "text": [
            "---------------------------------------------\n",
            "10.017718129753401\n",
            "---------------------------------------------\n"
          ]
        }
      ]
    },
    {
      "cell_type": "code",
      "source": [
        "# Show kurtosis\n",
        "from scipy.stats import kurtosis\n",
        "\n",
        "print(\"---------------------------------------------\")\n",
        "print(kurtosis(population))\n",
        "print(\"---------------------------------------------\")"
      ],
      "metadata": {
        "colab": {
          "base_uri": "https://localhost:8080/"
        },
        "id": "yHbCvDKaQrtb",
        "outputId": "7edd8895-b0b8-4895-f82c-d6c035cb2ad2"
      },
      "execution_count": 13,
      "outputs": [
        {
          "output_type": "stream",
          "name": "stdout",
          "text": [
            "---------------------------------------------\n",
            "113.3957830679801\n",
            "---------------------------------------------\n"
          ]
        }
      ]
    },
    {
      "cell_type": "code",
      "source": [
        "# Show zscore\n",
        "from scipy.stats import kurtosis\n",
        "\n",
        "print(\"---------------------------------------------\")\n",
        "print(kurtosis(population))\n",
        "print(\"---------------------------------------------\")"
      ],
      "metadata": {
        "colab": {
          "base_uri": "https://localhost:8080/"
        },
        "id": "FG_ihLEcTB7T",
        "outputId": "10f935c7-0d38-45dd-81d0-38507b09a6f5"
      },
      "execution_count": 14,
      "outputs": [
        {
          "output_type": "stream",
          "name": "stdout",
          "text": [
            "---------------------------------------------\n",
            "113.3957830679801\n",
            "---------------------------------------------\n"
          ]
        }
      ]
    },
    {
      "cell_type": "code",
      "source": [
        "# Interpretation of the skew, kurtosis and distribution of data points\n",
        "\n",
        "# Skew Interpretation (Skew = 0)\n",
        "print(\"-------------------------------------------------------------------------------------------------\")\n",
        "print(f\"The skew is : {skew(population)} and this means that the distribution is symmetric.\")\n",
        "print(\"-------------------------------------------------------------------------------------------------\")\n",
        "\n",
        "# Kurtosis Interpretation (Kurtosis = -1.21)\n",
        "print(\"-------------------------------------------------------------------------------------------------\")\n",
        "print(f\"The kurtosis is : {kurtosis(population)} and this means that the distribution is slightly flat.\")\n",
        "print(\"-------------------------------------------------------------------------------------------------\")"
      ],
      "metadata": {
        "colab": {
          "base_uri": "https://localhost:8080/"
        },
        "id": "Qyh_cdZaRHQj",
        "outputId": "0b27a9e2-961b-40d9-e530-3acf37b9286f"
      },
      "execution_count": 15,
      "outputs": [
        {
          "output_type": "stream",
          "name": "stdout",
          "text": [
            "-------------------------------------------------------------------------------------------------\n",
            "The skew is : 10.017718129753401 and this means that the distribution is symmetric.\n",
            "-------------------------------------------------------------------------------------------------\n",
            "-------------------------------------------------------------------------------------------------\n",
            "The kurtosis is : 113.3957830679801 and this means that the distribution is slightly flat.\n",
            "-------------------------------------------------------------------------------------------------\n"
          ]
        }
      ]
    },
    {
      "cell_type": "markdown",
      "source": [
        "\n",
        "**4. Generate a correlation matrix for all numerical columns (`Cases`, `Recovered`, `Deaths`, `Tests`, and `Population`) in the dataset. Analyze the strength and direction of relationships between these variables. Which pairs of variables show the strongest positive or negative correlations, and what insights can you draw from these relationships?**"
      ],
      "metadata": {
        "id": "n3giU3yl7Wu3"
      }
    },
    {
      "cell_type": "code",
      "source": [
        "# Correlation matrix for columns 'Cases', 'Recovered', 'Deaths', 'Tests' and 'Population'\n",
        "correlation_matrix = df[['Cases', 'Recovered', 'Deaths', 'Tests', 'population']].corr()\n",
        "\n",
        "# Display the correlation matrix\n",
        "print(\"------------------------------------------------------------------\")\n",
        "print(correlation_matrix)\n",
        "print(\"------------------------------------------------------------------\")\n",
        "\n",
        "\n",
        "# Plot using seaborn\n",
        "sns.heatmap(correlation_matrix, annot=True, cmap='coolwarm', fmt=\".2f\")\n",
        "print(\"------------------------------------------------------------------\")\n",
        "plt.title('Correlation Matrix')\n",
        "\n",
        "plt.show()\n",
        "print(\"------------------------------------------------------------------\")"
      ],
      "metadata": {
        "id": "afp3y9nZ7V5L",
        "colab": {
          "base_uri": "https://localhost:8080/",
          "height": 626
        },
        "outputId": "0dcbd2dc-1ced-4004-dace-fb523c9e6974"
      },
      "execution_count": 16,
      "outputs": [
        {
          "output_type": "stream",
          "name": "stdout",
          "text": [
            "------------------------------------------------------------------\n",
            "               Cases  Recovered    Deaths     Tests  population\n",
            "Cases       1.000000   0.999862  0.891011  0.860752    0.236048\n",
            "Recovered   0.999862   1.000000  0.885428  0.862549    0.233388\n",
            "Deaths      0.891011   0.885428  1.000000  0.798248    0.272309\n",
            "Tests       0.860752   0.862549  0.798248  1.000000    0.304887\n",
            "population  0.236048   0.233388  0.272309  0.304887    1.000000\n",
            "------------------------------------------------------------------\n",
            "------------------------------------------------------------------\n"
          ]
        },
        {
          "output_type": "display_data",
          "data": {
            "text/plain": [
              "<Figure size 640x480 with 2 Axes>"
            ],
            "image/png": "[encoded data removed]"
          },
          "metadata": {}
        },
        {
          "output_type": "stream",
          "name": "stdout",
          "text": [
            "------------------------------------------------------------------\n"
          ]
        }
      ]
    },
    {
      "cell_type": "code",
      "source": [
        "# Insights from correlation plot\n",
        "\n",
        "print(\"-------------------------------------------------------------------------------------\")\n",
        "print(\"The higher the number of Covid cases, the higher the number of deaths and recovered.\\nAlso, the higher the number of reported cases.\")\n",
        "print(\"-------------------------------------------------------------------------------------\")"
      ],
      "metadata": {
        "colab": {
          "base_uri": "https://localhost:8080/"
        },
        "id": "TIHuckmPUbFT",
        "outputId": "4a1b4ca7-2109-4ac0-ba63-caa91097abd6"
      },
      "execution_count": 17,
      "outputs": [
        {
          "output_type": "stream",
          "name": "stdout",
          "text": [
            "-------------------------------------------------------------------------------------\n",
            "The higher the number of Covid cases, the higher the number of deaths and recovered.\n",
            "Also, the higher the number of reported cases.\n",
            "-------------------------------------------------------------------------------------\n"
          ]
        }
      ]
    }
  ]
}